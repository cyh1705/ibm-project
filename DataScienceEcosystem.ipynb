{
 "cells": [
  {
   "cell_type": "code",
   "execution_count": null,
   "id": "139bff6b-e7b0-4b25-8de2-3df5684f1adf",
   "metadata": {},
   "outputs": [],
   "source": []
  },
  {
   "cell_type": "markdown",
   "id": "ae3d3cc8-398c-4fc8-80e7-fd856afa803d",
   "metadata": {},
   "source": [
    "# Data Science Tools and Ecosystem"
   ]
  },
  {
   "cell_type": "markdown",
   "id": "39dc60d4-b5d5-4ca9-8f8c-f3b75873f692",
   "metadata": {},
   "source": [
    "In this notebook, Data Science Tools and Ecosystem are summarized."
   ]
  },
  {
   "cell_type": "markdown",
   "id": "8f6de78f-be8d-49c6-b92b-069fc72b5769",
   "metadata": {},
   "source": [
    "**Objectives:**\n",
    "\n",
    "- List popular languages for Data Science\n",
    "- List commonly used libraries for Data Science\n",
    "- Demonstrate arithmetic expressions in Python\n",
    "- Create and use markdown and code cells in Jupyter Notebook"
   ]
  },
  {
   "cell_type": "code",
   "execution_count": null,
   "id": "b94908de-49e1-4ef2-9865-e3e63f94e3dd",
   "metadata": {},
   "outputs": [],
   "source": [
    "some of the popular languages that Data Scientists use are:\n",
    "\n",
    "1. Python\n",
    "2. R\n",
    "3. SQL\n",
    "4. Julia"
   ]
  },
  {
   "cell_type": "markdown",
   "id": "1e1a4d0b-b8d3-4901-b53b-2b718b22767a",
   "metadata": {},
   "source": [
    "Some of the commonly used libraries used by Data Scientists include:\n",
    "\n",
    "1. Pandas\n",
    "2. NumPy\n",
    "3. Scikit-learn\n",
    "4. TensorFlow"
   ]
  },
  {
   "cell_type": "markdown",
   "id": "c337fed4-e05c-4b82-ae66-ba5557e96f7f",
   "metadata": {},
   "source": [
    "| Data Science Tools |\n",
    "|--------------------|\n",
    "| Jupyter Notebook   |\n",
    "| RStudio            |\n",
    "| Apache Zeppelin    |"
   ]
  },
  {
   "cell_type": "markdown",
   "id": "f98c8266-317a-4c73-80c5-dc565cc01c94",
   "metadata": {},
   "source": [
    "### Below are a few examples of evaluating arithmetic expressions in Python."
   ]
  },
  {
   "cell_type": "code",
   "execution_count": 16,
   "id": "e340b262-76af-4d80-a095-8a3f9b5688fd",
   "metadata": {},
   "outputs": [
    {
     "name": "stdout",
     "output_type": "stream",
     "text": [
      "17\n"
     ]
    }
   ],
   "source": [
    "# This is a simple arithmetic expression to multiply then add integers.\n",
    "A = (3 * 4) + 5\n",
    "print(A)"
   ]
  },
  {
   "cell_type": "code",
   "execution_count": 18,
   "id": "635b17c4-8f57-4e56-91f4-0a5ecf716680",
   "metadata": {},
   "outputs": [
    {
     "name": "stdout",
     "output_type": "stream",
     "text": [
      "3.3333333333333335\n"
     ]
    }
   ],
   "source": [
    "# This will convert 200 minutes to hours by dividing by 60.\n",
    "Minutes = 200\n",
    "Hours = Minutes / 60\n",
    "print(Hours)"
   ]
  },
  {
   "cell_type": "markdown",
   "id": "3bc1fc1c-3535-48e3-ae93-17042d6ac953",
   "metadata": {},
   "source": [
    "## Author\n",
    "Yunho Choi"
   ]
  },
  {
   "cell_type": "code",
   "execution_count": null,
   "id": "cf3766a3-a81a-45b0-b517-f6b3458e8d21",
   "metadata": {},
   "outputs": [],
   "source": []
  }
 ],
 "metadata": {
  "kernelspec": {
   "display_name": "Python 3 (ipykernel)",
   "language": "python",
   "name": "python3"
  },
  "language_info": {
   "codemirror_mode": {
    "name": "ipython",
    "version": 3
   },
   "file_extension": ".py",
   "mimetype": "text/x-python",
   "name": "python",
   "nbconvert_exporter": "python",
   "pygments_lexer": "ipython3",
   "version": "3.12.4"
  }
 },
 "nbformat": 4,
 "nbformat_minor": 5
}
